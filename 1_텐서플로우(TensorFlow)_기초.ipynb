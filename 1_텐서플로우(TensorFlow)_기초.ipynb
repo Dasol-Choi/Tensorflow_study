{
  "nbformat": 4,
  "nbformat_minor": 0,
  "metadata": {
    "colab": {
      "provenance": []
    },
    "kernelspec": {
      "name": "python3",
      "display_name": "Python 3"
    },
    "accelerator": "GPU"
  },
  "cells": [
    {
      "cell_type": "markdown",
      "metadata": {
        "id": "mpf4TRENWJMZ"
      },
      "source": [
        "# 텐서플로우 (Tensorflow)\n",
        "\n",
        "<img src=\"https://upload.wikimedia.org/wikipedia/commons/thumb/1/11/TensorFlowLogo.svg/1200px-TensorFlowLogo.svg.png\" width=\"300\">\n",
        "\n",
        "- 가장 널리 쓰이는 딥러닝 프레임워크 중 하나\n",
        "\n",
        "- 구글이 주도적으로 개발하는 플랫폼\n",
        "\n",
        "- 파이썬, C++ API를 기본적으로 제공하고,  \n",
        "  자바스크립트(JavaScript), 자바(Java), 고(Go), 스위프트(Swift) 등 다양한 프로그래밍 언어를 지원\n",
        "\n",
        "- tf.keras를 중심으로 고수준 API 통합 (2.x 버전)\n",
        "\n",
        "- TPU(Tensor Processing Unit) 지원\n",
        "  - TPU는 GPU보다 전력을 적게 소모, 경제적\n",
        "  \n",
        "  - 일반적으로 32비트(float32)로 수행되는 곱셈 연산을 16비트(float16)로 낮춤"
      ]
    },
    {
      "cell_type": "markdown",
      "metadata": {
        "id": "a9-NEf2BWd4M"
      },
      "source": [
        "## 텐서플로우 아키텍쳐\n",
        "\n",
        "<img src=\"https://developers.google.com/machine-learning/crash-course/images/TFHierarchy.svg\">\n",
        "\n",
        "<sub>출처: https://developers.google.com/machine-learning/crash-course/first-steps-with-tensorflow/toolkit</sub>"
      ]
    },
    {
      "cell_type": "markdown",
      "metadata": {
        "id": "c_ktVhFhYUiE"
      },
      "source": [
        "## 텐서플로우 시작하기"
      ]
    },
    {
      "cell_type": "code",
      "metadata": {
        "id": "SP9HL3ZvV0zR"
      },
      "source": [
        "import numpy as np\n",
        "import tensorflow as tf"
      ],
      "execution_count": null,
      "outputs": []
    },
    {
      "cell_type": "code",
      "metadata": {
        "id": "KvPQ0N4_YhDt",
        "colab": {
          "base_uri": "https://localhost:8080/"
        },
        "outputId": "3ae3898d-7a77-441c-e7f8-5cc1402c1316"
      },
      "source": [
        "print(tf.__version__)"
      ],
      "execution_count": null,
      "outputs": [
        {
          "output_type": "stream",
          "name": "stdout",
          "text": [
            "2.9.2\n"
          ]
        }
      ]
    },
    {
      "cell_type": "markdown",
      "metadata": {
        "id": "d-9usyAXY7Gw"
      },
      "source": [
        "### 텐서(Tensor)의 객체\n",
        "- 타입(Type): `string`, `float32`, `float16`, `int32`, `int8` 등\n",
        "\n",
        "- 형상(Shape): 0, 1, 2차원 등의 데이터 차원 \n",
        "\n",
        "- 축(Rank): 차원의 개수"
      ]
    },
    {
      "cell_type": "markdown",
      "metadata": {
        "id": "dZeigiNEZODl"
      },
      "source": [
        "### 텐서의 차원과 연산"
      ]
    },
    {
      "cell_type": "code",
      "metadata": {
        "id": "GMVq68gUYksh",
        "colab": {
          "base_uri": "https://localhost:8080/"
        },
        "outputId": "bc43a18a-560a-480d-fdb0-59ba0c06d0c5"
      },
      "source": [
        "a = tf.constant(2)\n",
        "print(tf.rank(a))\n",
        "print(a)"
      ],
      "execution_count": null,
      "outputs": [
        {
          "output_type": "stream",
          "name": "stdout",
          "text": [
            "tf.Tensor(0, shape=(), dtype=int32)\n",
            "tf.Tensor(2, shape=(), dtype=int32)\n"
          ]
        }
      ]
    },
    {
      "cell_type": "code",
      "source": [
        "b = tf.constant([2,3])\n",
        "print(tf.rank(b))\n",
        "print(b)"
      ],
      "metadata": {
        "colab": {
          "base_uri": "https://localhost:8080/"
        },
        "id": "tb3xqlA8IJMz",
        "outputId": "cf49e6c1-1197-4eee-b21a-28ae43969c50"
      },
      "execution_count": null,
      "outputs": [
        {
          "output_type": "stream",
          "name": "stdout",
          "text": [
            "tf.Tensor(1, shape=(), dtype=int32)\n",
            "tf.Tensor([2 3], shape=(2,), dtype=int32)\n"
          ]
        }
      ]
    },
    {
      "cell_type": "code",
      "metadata": {
        "id": "MgOKILDqZZKP",
        "colab": {
          "base_uri": "https://localhost:8080/"
        },
        "outputId": "dcb622da-0514-4637-eeb3-4c8c1c276fb1"
      },
      "source": [
        "c = tf.constant([[2,3], [6,7]])\n",
        "print(tf.rank(c))\n",
        "print(c)"
      ],
      "execution_count": null,
      "outputs": [
        {
          "output_type": "stream",
          "name": "stdout",
          "text": [
            "tf.Tensor(2, shape=(), dtype=int32)\n",
            "tf.Tensor(\n",
            "[[2 3]\n",
            " [6 7]], shape=(2, 2), dtype=int32)\n"
          ]
        }
      ]
    },
    {
      "cell_type": "code",
      "metadata": {
        "id": "k74H8ImTZbWi",
        "colab": {
          "base_uri": "https://localhost:8080/"
        },
        "outputId": "0c372f0f-01e0-4ea3-cdc6-85552da2b1a6"
      },
      "source": [
        "d = tf.constant(['hello'])\n",
        "print(tf.rank(d))\n",
        "print(d)"
      ],
      "execution_count": null,
      "outputs": [
        {
          "output_type": "stream",
          "name": "stdout",
          "text": [
            "tf.Tensor(1, shape=(), dtype=int32)\n",
            "tf.Tensor([b'hello'], shape=(1,), dtype=string)\n"
          ]
        }
      ]
    },
    {
      "cell_type": "markdown",
      "metadata": {
        "id": "z3mgwo7FZ_0S"
      },
      "source": [
        "### 난수 생성"
      ]
    },
    {
      "cell_type": "code",
      "metadata": {
        "id": "eaT2dUJlZ2Cd",
        "colab": {
          "base_uri": "https://localhost:8080/"
        },
        "outputId": "11155317-1e26-4679-ec25-a0cdbd3e6fa4"
      },
      "source": [
        "rand = tf.random.uniform([1], 0, 1)\n",
        "print(rand.shape)\n",
        "print(rand)"
      ],
      "execution_count": null,
      "outputs": [
        {
          "output_type": "stream",
          "name": "stdout",
          "text": [
            "(1,)\n",
            "tf.Tensor([0.28032553], shape=(1,), dtype=float32)\n"
          ]
        }
      ]
    },
    {
      "cell_type": "code",
      "metadata": {
        "id": "KfgimJg9aFgB",
        "colab": {
          "base_uri": "https://localhost:8080/"
        },
        "outputId": "adcfd21e-fa89-43f3-a9f2-34b46a6041c2"
      },
      "source": [
        "rand2 = tf.random.normal([1,2], 0, 1) #정규분포 랜덤값\n",
        "print(rand2.shape)\n",
        "print(rand2)"
      ],
      "execution_count": null,
      "outputs": [
        {
          "output_type": "stream",
          "name": "stdout",
          "text": [
            "(1, 2)\n",
            "tf.Tensor([[0.24669145 0.4785953 ]], shape=(1, 2), dtype=float32)\n"
          ]
        }
      ]
    },
    {
      "cell_type": "code",
      "metadata": {
        "id": "R_xdzhG5aPxB",
        "colab": {
          "base_uri": "https://localhost:8080/"
        },
        "outputId": "868fc32e-93f6-4844-87c9-f4f81b3a6a6a"
      },
      "source": [
        "rand3 = tf.random.normal(shape=(3,2), mean=0.0, stddev=1)\n",
        "print(rand3.shape)\n",
        "print(rand3)"
      ],
      "execution_count": null,
      "outputs": [
        {
          "output_type": "stream",
          "name": "stdout",
          "text": [
            "(3, 2)\n",
            "tf.Tensor(\n",
            "[[ 0.92847854  0.99802864]\n",
            " [ 0.3441717  -0.0648453 ]\n",
            " [-1.5072764  -0.02274937]], shape=(3, 2), dtype=float32)\n"
          ]
        }
      ]
    },
    {
      "cell_type": "markdown",
      "metadata": {
        "id": "Za7HlqVba5wD"
      },
      "source": [
        "### 즉시 실행 모드 (Eager Mode) 지원\n",
        "- 즉시 실행모드를 통해 텐서플로우를 파이썬처럼 사용할 수 있음\n",
        "\n",
        "- 1.x 버전에서는 '그래프'를 생성하고, 초기화 한 뒤에 세션을 통해 **값을 흐르게 하는 작업**을 진행해야함\n"
      ]
    },
    {
      "cell_type": "code",
      "metadata": {
        "id": "fVBqOSFrbQ1e"
      },
      "source": [
        "a = tf.constant(3)\n",
        "b = tf.constant(2)"
      ],
      "execution_count": null,
      "outputs": []
    },
    {
      "cell_type": "code",
      "metadata": {
        "id": "1btItwSEbdEO",
        "colab": {
          "base_uri": "https://localhost:8080/"
        },
        "outputId": "331f4267-6556-43bc-f488-a41ea9a66fc4"
      },
      "source": [
        "print(tf.add(a, b))\n",
        "print(a+b)"
      ],
      "execution_count": null,
      "outputs": [
        {
          "output_type": "stream",
          "name": "stdout",
          "text": [
            "tf.Tensor(5, shape=(), dtype=int32)\n",
            "tf.Tensor(5, shape=(), dtype=int32)\n"
          ]
        }
      ]
    },
    {
      "cell_type": "code",
      "metadata": {
        "id": "SaOXtxLpbfDC",
        "colab": {
          "base_uri": "https://localhost:8080/"
        },
        "outputId": "5dd25cdb-9378-4e14-8139-a56ab25dad50"
      },
      "source": [
        "print(tf.subtract(a, b))\n",
        "print(a-b)"
      ],
      "execution_count": null,
      "outputs": [
        {
          "output_type": "stream",
          "name": "stdout",
          "text": [
            "tf.Tensor(1, shape=(), dtype=int32)\n",
            "tf.Tensor(1, shape=(), dtype=int32)\n"
          ]
        }
      ]
    },
    {
      "cell_type": "code",
      "metadata": {
        "id": "UCApXIDNbtLF",
        "colab": {
          "base_uri": "https://localhost:8080/"
        },
        "outputId": "37cc0c83-b543-4810-8fa6-419813355f95"
      },
      "source": [
        "print(tf.multiply(a, b))\n",
        "print(a*b)"
      ],
      "execution_count": null,
      "outputs": [
        {
          "output_type": "stream",
          "name": "stdout",
          "text": [
            "tf.Tensor(6, shape=(), dtype=int32)\n",
            "tf.Tensor(6, shape=(), dtype=int32)\n"
          ]
        }
      ]
    },
    {
      "cell_type": "markdown",
      "metadata": {
        "id": "XyLkPW4Db67W"
      },
      "source": [
        "### 텐서 플로우 ↔ 넘파이\n",
        "- `numpy()`\n",
        "- `tf.convet_to_tensor()`"
      ]
    },
    {
      "cell_type": "code",
      "metadata": {
        "id": "c9AWzdJRb4Ez",
        "colab": {
          "base_uri": "https://localhost:8080/"
        },
        "outputId": "7ba50043-823b-4965-8ff3-1fb4ecefe192"
      },
      "source": [
        "c = tf.add(a, b).numpy()\n",
        "print(type(c))"
      ],
      "execution_count": null,
      "outputs": [
        {
          "output_type": "stream",
          "name": "stdout",
          "text": [
            "<class 'numpy.int32'>\n"
          ]
        }
      ]
    },
    {
      "cell_type": "code",
      "metadata": {
        "id": "ql4O755kcfnk",
        "colab": {
          "base_uri": "https://localhost:8080/"
        },
        "outputId": "f184d081-0a45-4c06-e01e-03df4711b1e4"
      },
      "source": [
        "c_square = np.square(c, dtype=np.float)\n",
        "c_tensor = tf.convert_to_tensor(c_square)\n",
        "\n",
        "print(c_tensor)\n",
        "print(type(c_tensor))"
      ],
      "execution_count": null,
      "outputs": [
        {
          "output_type": "stream",
          "name": "stdout",
          "text": [
            "tf.Tensor(25.0, shape=(), dtype=float64)\n",
            "<class 'tensorflow.python.framework.ops.EagerTensor'>\n"
          ]
        },
        {
          "output_type": "stream",
          "name": "stderr",
          "text": [
            "/usr/local/lib/python3.7/dist-packages/ipykernel_launcher.py:1: DeprecationWarning: `np.float` is a deprecated alias for the builtin `float`. To silence this warning, use `float` by itself. Doing this will not modify any behavior and is safe. If you specifically wanted the numpy scalar type, use `np.float64` here.\n",
            "Deprecated in NumPy 1.20; for more details and guidance: https://numpy.org/devdocs/release/1.20.0-notes.html#deprecations\n",
            "  \"\"\"Entry point for launching an IPython kernel.\n"
          ]
        }
      ]
    },
    {
      "cell_type": "markdown",
      "metadata": {
        "id": "LmWKhcWVk00O"
      },
      "source": [
        "### 넘파이처럼 사용하기\n"
      ]
    },
    {
      "cell_type": "code",
      "metadata": {
        "id": "0on9RGRllNnX",
        "colab": {
          "base_uri": "https://localhost:8080/"
        },
        "outputId": "1df2fb61-9415-4ca6-e70e-5a0be738eb6f"
      },
      "source": [
        "t = tf.constant([[1., 2., 3.], [4., 5., 6.]])\n",
        "\n",
        "print(t.shape)\n",
        "print(t.dtype)"
      ],
      "execution_count": null,
      "outputs": [
        {
          "output_type": "stream",
          "name": "stdout",
          "text": [
            "(2, 3)\n",
            "<dtype: 'float32'>\n"
          ]
        }
      ]
    },
    {
      "cell_type": "code",
      "metadata": {
        "id": "lhlyV7oklUIh",
        "colab": {
          "base_uri": "https://localhost:8080/"
        },
        "outputId": "6c67bfed-a4cc-4b06-bb82-d2c8e13b2157"
      },
      "source": [
        "print(t[:, 1:])"
      ],
      "execution_count": null,
      "outputs": [
        {
          "output_type": "stream",
          "name": "stdout",
          "text": [
            "tf.Tensor(\n",
            "[[2. 3.]\n",
            " [5. 6.]], shape=(2, 2), dtype=float32)\n"
          ]
        }
      ]
    },
    {
      "cell_type": "code",
      "metadata": {
        "id": "glWL8MITlo7H",
        "colab": {
          "base_uri": "https://localhost:8080/"
        },
        "outputId": "404a1737-3c61-4bf5-f418-60cf8ad7ae9e"
      },
      "source": [
        "t[..., 1, tf.newaxis]"
      ],
      "execution_count": null,
      "outputs": [
        {
          "output_type": "execute_result",
          "data": {
            "text/plain": [
              "<tf.Tensor: shape=(2, 1), dtype=float32, numpy=\n",
              "array([[2.],\n",
              "       [5.]], dtype=float32)>"
            ]
          },
          "metadata": {},
          "execution_count": 29
        }
      ]
    },
    {
      "cell_type": "code",
      "metadata": {
        "id": "RtzQuhwnmRdu",
        "colab": {
          "base_uri": "https://localhost:8080/"
        },
        "outputId": "771aeb92-88f5-458f-b045-686096f7cb72"
      },
      "source": [
        "t + 10"
      ],
      "execution_count": null,
      "outputs": [
        {
          "output_type": "execute_result",
          "data": {
            "text/plain": [
              "<tf.Tensor: shape=(2, 3), dtype=float32, numpy=\n",
              "array([[11., 12., 13.],\n",
              "       [14., 15., 16.]], dtype=float32)>"
            ]
          },
          "metadata": {},
          "execution_count": 30
        }
      ]
    },
    {
      "cell_type": "code",
      "metadata": {
        "id": "Z5wQhZ0xmRi6",
        "colab": {
          "base_uri": "https://localhost:8080/"
        },
        "outputId": "bc616122-7508-44f4-d7da-8c90c0624ed6"
      },
      "source": [
        "tf.square(t)"
      ],
      "execution_count": null,
      "outputs": [
        {
          "output_type": "execute_result",
          "data": {
            "text/plain": [
              "<tf.Tensor: shape=(2, 3), dtype=float32, numpy=\n",
              "array([[ 1.,  4.,  9.],\n",
              "       [16., 25., 36.]], dtype=float32)>"
            ]
          },
          "metadata": {},
          "execution_count": 32
        }
      ]
    },
    {
      "cell_type": "code",
      "metadata": {
        "id": "Fj9RmYc6mRVh",
        "colab": {
          "base_uri": "https://localhost:8080/"
        },
        "outputId": "a23a2e46-cd7c-42ce-b013-d52dee501a24"
      },
      "source": [
        "t @ tf.transpose(t)"
      ],
      "execution_count": null,
      "outputs": [
        {
          "output_type": "execute_result",
          "data": {
            "text/plain": [
              "<tf.Tensor: shape=(2, 2), dtype=float32, numpy=\n",
              "array([[14., 32.],\n",
              "       [32., 77.]], dtype=float32)>"
            ]
          },
          "metadata": {},
          "execution_count": 33
        }
      ]
    },
    {
      "cell_type": "markdown",
      "metadata": {
        "id": "8y5wUIfpuhzL"
      },
      "source": [
        "### 타입 변환\n",
        "- 텐서의 기본 dtype\n",
        "  - float형 텐서: `float32`\n",
        "  - int형 텐서: `int32`\n",
        "\n",
        "- 연산시 텐서의 타입을 맞춰줘야 함\n",
        "  - `float32` ~ `float32`\n",
        "  - `int32` ~ `int32`\n",
        "  - `flot32` ~ `int32` (x)\n",
        "\n",
        "- 타입변환에는 `tf.cast()` 사용"
      ]
    },
    {
      "cell_type": "code",
      "metadata": {
        "id": "RMwFpHCAvEFG",
        "colab": {
          "base_uri": "https://localhost:8080/"
        },
        "outputId": "e09c7147-f2dc-4819-b223-7047999105ef"
      },
      "source": [
        "a = tf.constant(2)\n",
        "print(a)\n",
        "\n",
        "b = tf.constant(2.0)\n",
        "print(b)"
      ],
      "execution_count": null,
      "outputs": [
        {
          "output_type": "stream",
          "name": "stdout",
          "text": [
            "tf.Tensor(2, shape=(), dtype=int32)\n",
            "tf.Tensor(2.0, shape=(), dtype=float32)\n"
          ]
        }
      ]
    },
    {
      "cell_type": "code",
      "metadata": {
        "id": "rVb9KZSKui_c"
      },
      "source": [
        "# tf.constant(2.0) +tf.constant(40) #error"
      ],
      "execution_count": null,
      "outputs": []
    },
    {
      "cell_type": "code",
      "metadata": {
        "id": "-Lz79b8Fumsy"
      },
      "source": [
        "# tf.constant(2.0) + tf.constant(30.0, dtype=tf.float64) #error"
      ],
      "execution_count": null,
      "outputs": []
    },
    {
      "cell_type": "code",
      "metadata": {
        "id": "qH2HEmwIvbUx",
        "colab": {
          "base_uri": "https://localhost:8080/"
        },
        "outputId": "0047fdea-ff2d-4e22-d9bc-e10f0b7c22d0"
      },
      "source": [
        "t = tf.constant(30., dtype=tf.float64)\n",
        "t2 = tf.constant(4.)\n",
        "\n",
        "print(t2 + tf.cast(t, tf.float32))"
      ],
      "execution_count": null,
      "outputs": [
        {
          "output_type": "stream",
          "name": "stdout",
          "text": [
            "tf.Tensor(34.0, shape=(), dtype=float32)\n"
          ]
        }
      ]
    },
    {
      "cell_type": "markdown",
      "metadata": {
        "id": "E3IX5JwVZePH"
      },
      "source": [
        "### AutoGraph (오토그래프)\n",
        "\n",
        "- Tensorflow가 작업을 좀 더 빠르게 동작하게 하기 위한 방법으로 Graph로 만들어 연산을 진행\n",
        "\n",
        "- `tf.Graph`\n",
        "\n",
        "- 유연성이 있음\n",
        "\n",
        "  - 모바일 애플리케이션, 임베디드 기기, 백엔드 서버와 같이 Python 인터프리터가 없는 환경에서 Tensorflow 사용 가능 "
      ]
    },
    {
      "cell_type": "code",
      "metadata": {
        "id": "78VD-XWRaea5"
      },
      "source": [
        "import timeit"
      ],
      "execution_count": null,
      "outputs": []
    },
    {
      "cell_type": "markdown",
      "metadata": {
        "id": "YxNt6nejc8Ei"
      },
      "source": [
        "### @tf.function\n",
        "- 자동으로 그래프를 생성(Auto Graph)\n",
        "\n",
        "- 그래프로 변환하여 사용 -> GPU 연산 가능\n",
        "\n",
        "- 파이썬으로 구성된 함수를 텐서플로우의 그래프 형태로 다루고 싶을 때 사용가능\n",
        "\n",
        "\n",
        "- 원본 함수가 필요하다면 `(tf.function).python_function()`"
      ]
    },
    {
      "cell_type": "code",
      "metadata": {
        "id": "gq5NFuLjcukw",
        "colab": {
          "base_uri": "https://localhost:8080/"
        },
        "outputId": "bef6c6d2-3929-4fc8-c386-1bb7c7ac4693"
      },
      "source": [
        "@tf.function\n",
        "def my_function(x):\n",
        "  return x**2 - 10*x +3\n",
        "print(my_function(2))\n",
        "print(my_function(tf.constant(2)))"
      ],
      "execution_count": null,
      "outputs": [
        {
          "output_type": "stream",
          "name": "stdout",
          "text": [
            "tf.Tensor(-13, shape=(), dtype=int32)\n",
            "tf.Tensor(-13, shape=(), dtype=int32)\n"
          ]
        }
      ]
    },
    {
      "cell_type": "code",
      "metadata": {
        "id": "hR3RAAIQd8J7",
        "colab": {
          "base_uri": "https://localhost:8080/"
        },
        "outputId": "f3d66265-6cd1-4edb-c71d-3b4ff25c4a99"
      },
      "source": [
        "def my_function_(x):\n",
        "  return x**2 - 10*x +3\n",
        "print(my_function_(2))\n",
        "print(my_function_(tf.constant(2)))"
      ],
      "execution_count": null,
      "outputs": [
        {
          "output_type": "stream",
          "name": "stdout",
          "text": [
            "-13\n",
            "tf.Tensor(-13, shape=(), dtype=int32)\n"
          ]
        }
      ]
    },
    {
      "cell_type": "code",
      "metadata": {
        "id": "bsy3eabmy8X8",
        "colab": {
          "base_uri": "https://localhost:8080/"
        },
        "outputId": "8eb7ac58-4fff-4f3d-91cf-0574d0b4bfdd"
      },
      "source": [
        "tf_my_func = tf.function(my_function_)\n",
        "print(tf_my_func)\n",
        "print(tf_my_func(2))"
      ],
      "execution_count": null,
      "outputs": [
        {
          "output_type": "stream",
          "name": "stdout",
          "text": [
            "<tensorflow.python.eager.def_function.Function object at 0x7fa5963f1b10>\n",
            "tf.Tensor(-13, shape=(), dtype=int32)\n"
          ]
        }
      ]
    },
    {
      "cell_type": "code",
      "metadata": {
        "id": "TgwwgQvjzKqn",
        "colab": {
          "base_uri": "https://localhost:8080/"
        },
        "outputId": "e5b5df59-c35c-45f6-ff0d-58a768bbbe2c"
      },
      "source": [
        "tf_my_func.python_function(2)"
      ],
      "execution_count": null,
      "outputs": [
        {
          "output_type": "execute_result",
          "data": {
            "text/plain": [
              "-13"
            ]
          },
          "metadata": {},
          "execution_count": 44
        }
      ]
    },
    {
      "cell_type": "code",
      "metadata": {
        "id": "1pkBOpWhaehO",
        "colab": {
          "base_uri": "https://localhost:8080/"
        },
        "outputId": "2446ceac-aea8-4d4f-be0c-8f10a707072c"
      },
      "source": [
        "def function_to_get_faster(x, y, b):\n",
        "  x = tf.matmul(x, y)\n",
        "  x = x + b\n",
        "  return x\n",
        "\n",
        "a_funciton_that_uses_a_graph = tf.function(function_to_get_faster)\n",
        "\n",
        "x1 = tf.constant([[1.0, 2.0]])\n",
        "y1 = tf.constant([[2.0], [3.0]])\n",
        "b1 = tf.constant(4.0)\n",
        "\n",
        "a_funciton_that_uses_a_graph(x1, y1, b1).numpy()"
      ],
      "execution_count": null,
      "outputs": [
        {
          "output_type": "execute_result",
          "data": {
            "text/plain": [
              "array([[12.]], dtype=float32)"
            ]
          },
          "metadata": {},
          "execution_count": 48
        }
      ]
    },
    {
      "cell_type": "code",
      "metadata": {
        "id": "rcLAgLKfaepn",
        "colab": {
          "base_uri": "https://localhost:8080/"
        },
        "outputId": "3cdb665a-cb01-4ce0-8c28-e6393cfc1a6d"
      },
      "source": [
        "def inner_function(x, y, b):\n",
        "  x = tf.matmul(x, y)\n",
        "  x = x + b\n",
        "  return x\n",
        "\n",
        "@tf.function\n",
        "def outer_function(x):\n",
        "  y =tf.constant([[2.0], [3.0]])\n",
        "  b = tf.constant(4.0)\n",
        "  return inner_function(x, y, b)  \n",
        "\n",
        "outer_function(tf.constant([[1.0, 2.0]])).numpy()"
      ],
      "execution_count": null,
      "outputs": [
        {
          "output_type": "execute_result",
          "data": {
            "text/plain": [
              "array([[12.]], dtype=float32)"
            ]
          },
          "metadata": {},
          "execution_count": 56
        }
      ]
    },
    {
      "cell_type": "markdown",
      "metadata": {
        "id": "mXLYEP4fbSYe"
      },
      "source": [
        "텐서플로우가 `tf.function`으로 변환한 코드"
      ]
    },
    {
      "cell_type": "code",
      "metadata": {
        "id": "i6cqueZuWN1g",
        "colab": {
          "base_uri": "https://localhost:8080/"
        },
        "outputId": "2da845a4-a2fa-4e35-ee27-2aa604096268"
      },
      "source": [
        "print(tf.autograph.to_code(my_function.python_function))\n",
        "print(tf.autograph.to_code(tf_my_func.python_function))\n",
        "print(tf.autograph.to_code(outer_function.python_function))"
      ],
      "execution_count": null,
      "outputs": [
        {
          "output_type": "stream",
          "name": "stdout",
          "text": [
            "def tf__my_function(x):\n",
            "    with ag__.FunctionScope('my_function', 'fscope', ag__.ConversionOptions(recursive=True, user_requested=True, optional_features=(), internal_convert_user_code=True)) as fscope:\n",
            "        do_return = False\n",
            "        retval_ = ag__.UndefinedReturnValue()\n",
            "        try:\n",
            "            do_return = True\n",
            "            retval_ = (((ag__.ld(x) ** 2) - (10 * ag__.ld(x))) + 3)\n",
            "        except:\n",
            "            do_return = False\n",
            "            raise\n",
            "        return fscope.ret(retval_, do_return)\n",
            "\n",
            "def tf__my_function_(x):\n",
            "    with ag__.FunctionScope('my_function_', 'fscope', ag__.ConversionOptions(recursive=True, user_requested=True, optional_features=(), internal_convert_user_code=True)) as fscope:\n",
            "        do_return = False\n",
            "        retval_ = ag__.UndefinedReturnValue()\n",
            "        try:\n",
            "            do_return = True\n",
            "            retval_ = (((ag__.ld(x) ** 2) - (10 * ag__.ld(x))) + 3)\n",
            "        except:\n",
            "            do_return = False\n",
            "            raise\n",
            "        return fscope.ret(retval_, do_return)\n",
            "\n",
            "def tf__outer_function(x):\n",
            "    with ag__.FunctionScope('outer_function', 'fscope', ag__.ConversionOptions(recursive=True, user_requested=True, optional_features=(), internal_convert_user_code=True)) as fscope:\n",
            "        do_return = False\n",
            "        retval_ = ag__.UndefinedReturnValue()\n",
            "        y = ag__.converted_call(ag__.ld(tf).constant, ([[2.0], [3.0]],), None, fscope)\n",
            "        b = ag__.converted_call(ag__.ld(tf).constant, (4.0,), None, fscope)\n",
            "        try:\n",
            "            do_return = True\n",
            "            retval_ = ag__.converted_call(ag__.ld(inner_function), (ag__.ld(x), ag__.ld(y), ag__.ld(b)), None, fscope)\n",
            "        except:\n",
            "            do_return = False\n",
            "            raise\n",
            "        return fscope.ret(retval_, do_return)\n",
            "\n"
          ]
        }
      ]
    },
    {
      "cell_type": "markdown",
      "metadata": {
        "id": "hf2KCJu1bdg_"
      },
      "source": [
        "\n",
        " 속도 향상\n"
      ]
    },
    {
      "cell_type": "code",
      "metadata": {
        "id": "6GC4f2HvbfNT",
        "colab": {
          "base_uri": "https://localhost:8080/"
        },
        "outputId": "1a9a6211-53bf-45e0-8ee5-aa4acc79aeed"
      },
      "source": [
        "class SequentialModel(tf.keras.Model):\n",
        "  def __init__(self, **kwargs):\n",
        "    super(SequentialModel, self).__init__(**kwargs)\n",
        "    self.flatten = tf.keras.layers.Flatten(input_shape=(28,28))\n",
        "    self.dense_1 = tf.keras.layers.Dense(128, activation='relu')\n",
        "    self.dropout = tf.keras.layers.Dropout(0.2)\n",
        "    self.dense_2 = tf.keras.layers.Dense(10)\n",
        "\n",
        "  def call(self, x):\n",
        "    x = self.flatten(x)\n",
        "    x = self.dense_1(x)\n",
        "    x = self.dropout(x)\n",
        "    x = self.dense_2(x)\n",
        "    return x\n",
        "\n",
        "input_data = tf.random.uniform([60, 28, 28])\n",
        "\n",
        "eager_model = SequentialModel()\n",
        "graph_model = tf.function(eager_model)\n",
        "\n",
        "print('Eager time:', timeit.timeit(lambda: eager_model(input_data), number=10000))\n",
        "print('Graph time:', timeit.timeit(lambda: graph_model(input_data), number=10000))"
      ],
      "execution_count": null,
      "outputs": [
        {
          "output_type": "stream",
          "name": "stdout",
          "text": [
            "Eager time: 12.228491894999934\n",
            "Graph time: 6.018944639999972\n"
          ]
        }
      ]
    },
    {
      "cell_type": "markdown",
      "metadata": {
        "id": "EizHAodregRR"
      },
      "source": [
        "### 변수 생성\n",
        "\n",
        "- `tf.Variable`\n",
        "- 딥러닝 모델 학습 시, 그래프 연산이 필요할 때 사용"
      ]
    },
    {
      "cell_type": "code",
      "metadata": {
        "id": "PybmfPcAeH-S",
        "colab": {
          "base_uri": "https://localhost:8080/"
        },
        "outputId": "1381270b-d1e2-4938-b393-d1957272acf1"
      },
      "source": [
        "X = tf.Variable(20.0)\n",
        "print(X)"
      ],
      "execution_count": null,
      "outputs": [
        {
          "output_type": "stream",
          "name": "stdout",
          "text": [
            "<tf.Variable 'Variable:0' shape=() dtype=float32, numpy=20.0>\n"
          ]
        }
      ]
    },
    {
      "cell_type": "markdown",
      "metadata": {
        "id": "qY_oUvVneiHH"
      },
      "source": [
        "### Autograd (자동 미분)\n",
        "\n",
        "- `tf.GradientTape` API를 사용\n",
        "- `tf.Variable` 같은 일부 입력에 대한 기울기 계산\n",
        "  - 기본적으로 한번만 사용됨\n",
        "- 변수가 포함된 연산만 기록"
      ]
    },
    {
      "cell_type": "code",
      "metadata": {
        "id": "4_lrTYZfeiHO"
      },
      "source": [
        "x = tf.Variable(3.0)\n",
        "\n",
        "with tf.GradientTape() as tape:\n",
        "  y = x**2"
      ],
      "execution_count": null,
      "outputs": []
    },
    {
      "cell_type": "code",
      "metadata": {
        "id": "1Tq7MMJTeiHQ",
        "colab": {
          "base_uri": "https://localhost:8080/"
        },
        "outputId": "b4de046b-8ba2-4378-e501-a1b96af04ffc"
      },
      "source": [
        "dy_dx = tape.gradient(y, x)\n",
        "dy_dx.numpy()"
      ],
      "execution_count": null,
      "outputs": [
        {
          "output_type": "execute_result",
          "data": {
            "text/plain": [
              "6.0"
            ]
          },
          "metadata": {},
          "execution_count": 63
        }
      ]
    },
    {
      "cell_type": "code",
      "metadata": {
        "id": "y0wty7V3eiHT"
      },
      "source": [
        "# x2 = tf.Variable(4)\n",
        "# dy_dx = tape.gradient(y, x2)\n",
        "# dy_dx.numpy()"
      ],
      "execution_count": null,
      "outputs": []
    },
    {
      "cell_type": "code",
      "metadata": {
        "id": "itJftqGlfWmy",
        "colab": {
          "base_uri": "https://localhost:8080/"
        },
        "outputId": "9063c408-40bc-4fd4-9b6b-e756dfe91ccc"
      },
      "source": [
        "x = tf.Variable(2.0)\n",
        "y = tf.Variable(3.0)\n",
        "\n",
        "with tf.GradientTape() as tape:\n",
        "  y_sq = y**2\n",
        "  z = x**2 + tf.stop_gradient(y_sq)\n",
        "\n",
        "grad = tape.gradient(z, {'x':x, 'y': y})\n",
        "\n",
        "print('dz/dx:', grad['x'])\n",
        "print('dz/dy:', grad['y'])"
      ],
      "execution_count": null,
      "outputs": [
        {
          "output_type": "stream",
          "name": "stdout",
          "text": [
            "dz/dx: tf.Tensor(4.0, shape=(), dtype=float32)\n",
            "dz/dy: None\n"
          ]
        }
      ]
    },
    {
      "cell_type": "code",
      "metadata": {
        "id": "Np-JoGSneiHW"
      },
      "source": [
        "weights = tf.Variable(tf.random.normal((3,2)), name='weights')\n",
        "biases = tf.Variable(tf.zeros(2, dtype=tf.float32), name='biases')\n",
        "x = [[1., 2., 3.]]\n",
        "\n",
        "with tf.GradientTape(persistent=True) as tape:\n",
        "  y = x @ weights + biases\n",
        "  loss = tf.reduce_mean(y**2)"
      ],
      "execution_count": null,
      "outputs": []
    },
    {
      "cell_type": "code",
      "metadata": {
        "id": "OMhB1rONeiHY",
        "colab": {
          "base_uri": "https://localhost:8080/"
        },
        "outputId": "53b67100-a4a3-4cb3-d13e-222a0b59c4de"
      },
      "source": [
        "[dl_dw, dl_db] = tape.gradient(loss, [weights, biases])\n",
        "print(weights.shape)\n",
        "print(dl_dw.shape)"
      ],
      "execution_count": null,
      "outputs": [
        {
          "output_type": "stream",
          "name": "stdout",
          "text": [
            "(3, 2)\n",
            "(3, 2)\n"
          ]
        }
      ]
    },
    {
      "cell_type": "code",
      "metadata": {
        "id": "UIFUed4yeiHc",
        "colab": {
          "base_uri": "https://localhost:8080/"
        },
        "outputId": "1e62dff1-0aff-41b9-db33-182289911e31"
      },
      "source": [
        "weights2 = tf.Variable(tf.random.normal((3,2)), name='weights')\n",
        "biases2 = tf.Variable(tf.zeros(2, dtype=tf.float32), name='biases')\n",
        "x2 = [[4., 5., 6.]]\n",
        "\n",
        "[dl_dw2, dl_db2] = tape.gradient(loss, [weights2, biases2])\n",
        "print(weights2.shape)\n",
        "print(dl_dw.shape)"
      ],
      "execution_count": null,
      "outputs": [
        {
          "output_type": "stream",
          "name": "stdout",
          "text": [
            "(3, 2)\n",
            "(3, 2)\n"
          ]
        }
      ]
    },
    {
      "cell_type": "code",
      "metadata": {
        "id": "b1X3900EeiHd"
      },
      "source": [
        "del tape"
      ],
      "execution_count": null,
      "outputs": []
    },
    {
      "cell_type": "markdown",
      "metadata": {
        "id": "FcG5ddWTgjMq"
      },
      "source": [
        "## 간단한 신경망 구조 "
      ]
    },
    {
      "cell_type": "markdown",
      "metadata": {
        "id": "fXE8tlU7gkrV"
      },
      "source": [
        "### 뉴런\n",
        "- 입력 → 연산 → 활성화함수 → 출력"
      ]
    },
    {
      "cell_type": "code",
      "metadata": {
        "id": "B-DUt6cZe7iD"
      },
      "source": [
        "def sigmoid(x):\n",
        "  return 1 / (1 + np.exp(-x))\n",
        "\n",
        "def Neuron(x, W, bias=0):\n",
        "  z = x * W + bias\n",
        "  return sigmoid(z)"
      ],
      "execution_count": null,
      "outputs": []
    },
    {
      "cell_type": "code",
      "metadata": {
        "id": "r8baxM6mg_XQ",
        "colab": {
          "base_uri": "https://localhost:8080/"
        },
        "outputId": "35d88953-236a-4430-b5bf-cfdd27a9a6e8"
      },
      "source": [
        "x = tf.random.normal((1,2), 0, 1)\n",
        "W = tf.random.normal((1,2), 0, 1)\n",
        "print('x.shape:', x.shape)\n",
        "print('W.shape:', W.shape)\n",
        "\n",
        "print(x)\n",
        "print(W)\n",
        "\n",
        "print(Neuron(x, W))"
      ],
      "execution_count": null,
      "outputs": [
        {
          "output_type": "stream",
          "name": "stdout",
          "text": [
            "x.shape: (1, 2)\n",
            "W.shape: (1, 2)\n",
            "tf.Tensor([[-0.46389097  0.60786736]], shape=(1, 2), dtype=float32)\n",
            "tf.Tensor([[-0.04763598 -0.37874588]], shape=(1, 2), dtype=float32)\n",
            "[[0.5055242  0.44269606]]\n"
          ]
        }
      ]
    },
    {
      "cell_type": "code",
      "metadata": {
        "id": "I7D57W93htFt",
        "colab": {
          "base_uri": "https://localhost:8080/"
        },
        "outputId": "12f661a7-7c6c-45da-b72d-0036e245fad0"
      },
      "source": [
        "x = tf.random.normal((2,1), 0, 1)\n",
        "W = tf.random.normal((2,1), 0, 1)\n",
        "print('x.shape:', x.shape)\n",
        "print('W.shape:', W.shape)\n",
        "\n",
        "print(x)\n",
        "print(W)\n",
        "\n",
        "print(Neuron(x, W))"
      ],
      "execution_count": null,
      "outputs": [
        {
          "output_type": "stream",
          "name": "stdout",
          "text": [
            "x.shape: (2, 1)\n",
            "W.shape: (2, 1)\n",
            "tf.Tensor(\n",
            "[[0.31383723]\n",
            " [0.63186395]], shape=(2, 1), dtype=float32)\n",
            "tf.Tensor(\n",
            "[[-1.1422591]\n",
            " [-1.053907 ]], shape=(2, 1), dtype=float32)\n",
            "[[0.41132677]\n",
            " [0.3394097 ]]\n"
          ]
        }
      ]
    },
    {
      "cell_type": "code",
      "metadata": {
        "id": "IKeoXsJBhzPk",
        "colab": {
          "base_uri": "https://localhost:8080/"
        },
        "outputId": "2f615ba9-1072-4f3f-de80-8f3c94b0bfe8"
      },
      "source": [
        "x = tf.random.normal((1,), 0, 1)\n",
        "W = tf.random.normal((2,1), 0, 1)\n",
        "print('x.shape:', x.shape)\n",
        "print('W.shape:', W.shape)\n",
        "\n",
        "print(x)\n",
        "print(W)\n",
        "\n",
        "print(Neuron(x, W))"
      ],
      "execution_count": null,
      "outputs": [
        {
          "output_type": "stream",
          "name": "stdout",
          "text": [
            "x.shape: (1,)\n",
            "W.shape: (2, 1)\n",
            "tf.Tensor([-0.9474899], shape=(1,), dtype=float32)\n",
            "tf.Tensor(\n",
            "[[-0.34849548]\n",
            " [ 0.9127456 ]], shape=(2, 1), dtype=float32)\n",
            "[[0.581807  ]\n",
            " [0.29633388]]\n"
          ]
        }
      ]
    },
    {
      "cell_type": "markdown",
      "metadata": {
        "id": "ATmvx1utmmMl"
      },
      "source": [
        "### 퍼셉트론 학습 알고리즘 (가중치 업데이트)\n",
        "\n",
        "## $\\qquad w^{(next step)} = w + \\eta \\ (y - \\tilde{y}) \\ x$\n",
        "\n",
        "- $w \\ $: 가중치\n",
        "\n",
        "- $\\eta \\ $ : 학습률\n",
        "\n",
        "- $y \\ $ : 정답 레이블\n",
        "\n",
        "- $\\tilde{y} \\ $: 예측 레이블\n"
      ]
    },
    {
      "cell_type": "code",
      "metadata": {
        "id": "7f-3qRCHXO9m",
        "colab": {
          "base_uri": "https://localhost:8080/"
        },
        "outputId": "c810267f-bfc9-4855-d6db-a741e7e16ba9"
      },
      "source": [
        "x = 1\n",
        "y = 0\n",
        "W = tf.random.normal([1], 0, 1)\n",
        "print(Neuron(x, W))\n",
        "print('y:', y)"
      ],
      "execution_count": null,
      "outputs": [
        {
          "output_type": "stream",
          "name": "stdout",
          "text": [
            "[0.5920492]\n",
            "y: 0\n"
          ]
        }
      ]
    },
    {
      "cell_type": "code",
      "metadata": {
        "id": "S8JG-rbdml_v",
        "colab": {
          "base_uri": "https://localhost:8080/"
        },
        "outputId": "c1a9c545-9299-4974-9e0e-6cef003482bf"
      },
      "source": [
        "for i in range(1000):\n",
        "  output = Neuron(x, W)\n",
        "  error = y - output\n",
        "  W = W + x * 0.1 * error\n",
        "\n",
        "  if i % 100 == 99:\n",
        "    print('{}\\t{}\\t{}'.format(i+1, error, output))"
      ],
      "execution_count": null,
      "outputs": [
        {
          "output_type": "stream",
          "name": "stdout",
          "text": [
            "100\t[-0.09629232]\t[0.09629232]\n",
            "200\t[-0.05069355]\t[0.05069355]\n",
            "300\t[-0.03409227]\t[0.03409227]\n",
            "400\t[-0.02560717]\t[0.02560717]\n",
            "500\t[-0.02047754]\t[0.02047754]\n",
            "600\t[-0.01704843]\t[0.01704843]\n",
            "700\t[-0.01459719]\t[0.01459719]\n",
            "800\t[-0.01275892]\t[0.01275892]\n",
            "900\t[-0.01132988]\t[0.01132988]\n",
            "1000\t[-0.01018744]\t[0.01018744]\n"
          ]
        }
      ]
    },
    {
      "cell_type": "code",
      "metadata": {
        "id": "vrJKCpf0VyOR"
      },
      "source": [
        "def Neuron2(x, W, bias=0):\n",
        "  z = tf.matmul(x, W, transpose_b=True) + bias\n",
        "  return sigmoid(z)"
      ],
      "execution_count": null,
      "outputs": []
    },
    {
      "cell_type": "code",
      "metadata": {
        "id": "dkLHtKQ8htRg",
        "colab": {
          "base_uri": "https://localhost:8080/"
        },
        "outputId": "858ec1f6-f674-4efc-8aeb-5c0887bc2273"
      },
      "source": [
        "x = tf.random.normal((1, 3), 0, 1)\n",
        "y = tf.ones(1)\n",
        "W = tf.random.normal((1, 3), 0, 1)\n",
        "\n",
        "print(Neuron2(x, W))\n",
        "print('y:', y)"
      ],
      "execution_count": null,
      "outputs": [
        {
          "output_type": "stream",
          "name": "stdout",
          "text": [
            "[[0.8306969]]\n",
            "y: tf.Tensor([1.], shape=(1,), dtype=float32)\n"
          ]
        }
      ]
    },
    {
      "cell_type": "code",
      "metadata": {
        "id": "udZu2_rQo1SH",
        "colab": {
          "base_uri": "https://localhost:8080/"
        },
        "outputId": "4f688f92-7d73-4fe3-cf55-4d229b26929a"
      },
      "source": [
        "for i in range(1000):\n",
        "  output = Neuron2(x, W)\n",
        "  error = y - output\n",
        "  W = W + x * 0.1 * error\n",
        "  \n",
        "  if i % 100 == 99:\n",
        "    print('{}\\t{}\\t{}'.format(i+1, error, output))"
      ],
      "execution_count": null,
      "outputs": [
        {
          "output_type": "stream",
          "name": "stdout",
          "text": [
            "100\t[[0.05030459]]\t[[0.9496954]]\n",
            "200\t[[0.02880043]]\t[[0.9711996]]\n",
            "300\t[[0.02009624]]\t[[0.97990376]]\n",
            "400\t[[0.0154106]]\t[[0.9845894]]\n",
            "500\t[[0.0124886]]\t[[0.9875114]]\n",
            "600\t[[0.01049429]]\t[[0.9895057]]\n",
            "700\t[[0.00904715]]\t[[0.99095285]]\n",
            "800\t[[0.00794965]]\t[[0.99205035]]\n",
            "900\t[[0.00708896]]\t[[0.99291104]]\n",
            "1000\t[[0.00639588]]\t[[0.9936041]]\n"
          ]
        }
      ]
    },
    {
      "cell_type": "code",
      "metadata": {
        "id": "X7rw7DAxbCcu",
        "colab": {
          "base_uri": "https://localhost:8080/"
        },
        "outputId": "4d302b3a-b561-4aa1-ca4f-206ac0c9b48c"
      },
      "source": [
        "x = tf.random.normal((1, 3), 0, 1)\n",
        "W = tf.random.normal((1,3), 0, 1)\n",
        "bias = tf.zeros((1, 1))\n",
        "\n",
        "y = tf.ones((1,))\n",
        "\n",
        "print('x\\t: {}\\nweights\\t:{}\\nbias\\t: {}'.format(x, W, bias))"
      ],
      "execution_count": null,
      "outputs": [
        {
          "output_type": "stream",
          "name": "stdout",
          "text": [
            "x\t: [[-0.0315496 -0.5318791  1.106354 ]]\n",
            "weights\t:[[ 1.2372507   0.39014795 -0.65806013]]\n",
            "bias\t: [[0.]]\n"
          ]
        }
      ]
    },
    {
      "cell_type": "code",
      "metadata": {
        "id": "Of-hjiq1pKF2",
        "colab": {
          "base_uri": "https://localhost:8080/"
        },
        "outputId": "76265767-5e87-438d-d4f0-d10950e1a1ee"
      },
      "source": [
        "for i in range(1000):\n",
        "  output = Neuron2(x, W, bias=bias)\n",
        "  error = y - output\n",
        "  W = W + x * 0.1 * error\n",
        "  bias = bias + 1 * 0.1 * error\n",
        "  \n",
        "  if i % 100 == 99:\n",
        "    print('{}\\t{}\\t{}'.format(i+1, error, output))"
      ],
      "execution_count": null,
      "outputs": [
        {
          "output_type": "stream",
          "name": "stdout",
          "text": [
            "100\t[[0.04441345]]\t[[0.95558655]]\n",
            "200\t[[0.0213089]]\t[[0.9786911]]\n",
            "300\t[[0.01396048]]\t[[0.9860395]]\n",
            "400\t[[0.01036853]]\t[[0.9896315]]\n",
            "500\t[[0.00824255]]\t[[0.99175745]]\n",
            "600\t[[0.0068382]]\t[[0.9931618]]\n",
            "700\t[[0.00584185]]\t[[0.99415815]]\n",
            "800\t[[0.00509846]]\t[[0.99490154]]\n",
            "900\t[[0.00452262]]\t[[0.9954774]]\n",
            "1000\t[[0.00406349]]\t[[0.9959365]]\n"
          ]
        }
      ]
    },
    {
      "cell_type": "code",
      "metadata": {
        "id": "KHVs1hALZ_bA",
        "colab": {
          "base_uri": "https://localhost:8080/"
        },
        "outputId": "7f8ecd43-4e2a-420f-95f5-6302bacf9c13"
      },
      "source": [
        "print('x\\t: {}\\nweights\\t:{}\\nbias\\t: {}'.format(x, W, bias))"
      ],
      "execution_count": null,
      "outputs": [
        {
          "output_type": "stream",
          "name": "stdout",
          "text": [
            "x\t: [[-0.0315496 -0.5318791  1.106354 ]]\n",
            "weights\t:[[ 1.1557671  -0.98355436  2.1993568 ]]\n",
            "bias\t: [[2.582731]]\n"
          ]
        }
      ]
    },
    {
      "cell_type": "markdown",
      "metadata": {
        "id": "LQ-syOVwfjB9"
      },
      "source": [
        "### AND Gate"
      ]
    },
    {
      "cell_type": "code",
      "metadata": {
        "id": "HyRma3NorTRs",
        "colab": {
          "base_uri": "https://localhost:8080/"
        },
        "outputId": "ec07769d-3485-449c-dc82-3f635bc50bfd"
      },
      "source": [
        "x = np.array([[1,1], [1,0], [0,1], [0,0]])\n",
        "y = np.array([[1], [0], [0], [0]])\n",
        "\n",
        "W = tf.random.normal([2], 0, 1)\n",
        "b = tf.random.normal([1], 0, 1)\n",
        "b_x = 1\n",
        "\n",
        "for i in range(2000):\n",
        "  error_sum = 0\n",
        "  \n",
        "  for j in range(4):\n",
        "    output = sigmoid(np.sum(x[j] * W) + b_x + b)\n",
        "    error = y[j][0] - output\n",
        "    W = W + x[j] * 0.1 * error\n",
        "    b = b + b_x * 0.1 * error\n",
        "    error_sum += error\n",
        "\n",
        "  if i % 200 == 0:\n",
        "    print('Epoch {:4d}\\t Error Sum {}'.format(i, error_sum))\n",
        "\n",
        "print('\\n가중치\\t: {}'.format(W))\n",
        "print('편향\\t : {}'.format(b))"
      ],
      "execution_count": null,
      "outputs": [
        {
          "output_type": "stream",
          "name": "stdout",
          "text": [
            "Epoch    0\t Error Sum [-1.1528727]\n",
            "Epoch  200\t Error Sum [-0.11549021]\n",
            "Epoch  400\t Error Sum [-0.06749715]\n",
            "Epoch  600\t Error Sum [-0.04758505]\n",
            "Epoch  800\t Error Sum [-0.0366374]\n",
            "Epoch 1000\t Error Sum [-0.02972714]\n",
            "Epoch 1200\t Error Sum [-0.02498128]\n",
            "Epoch 1400\t Error Sum [-0.02152477]\n",
            "Epoch 1600\t Error Sum [-0.01889956]\n",
            "Epoch 1800\t Error Sum [-0.01683677]\n",
            "\n",
            "가중치\t: [6.9591365 6.9622927]\n",
            "편향\t : [-11.617852]\n"
          ]
        }
      ]
    },
    {
      "cell_type": "code",
      "metadata": {
        "id": "OylWtem2stH0",
        "colab": {
          "base_uri": "https://localhost:8080/"
        },
        "outputId": "065acacf-b0e2-4a96-e2c2-df073b09ee64"
      },
      "source": [
        "for i in range(4):\n",
        "  print('x:{} y:{} Output:{}'.format(x[i], y[i], sigmoid(np.sum(x[i]* W) + b)))"
      ],
      "execution_count": null,
      "outputs": [
        {
          "output_type": "stream",
          "name": "stdout",
          "text": [
            "x:[1 1] y:[1] Output:[0.9091728]\n",
            "x:[1 0] y:[0] Output:[0.00938963]\n",
            "x:[0 1] y:[0] Output:[0.00941903]\n",
            "x:[0 0] y:[0] Output:[9.003824e-06]\n"
          ]
        }
      ]
    },
    {
      "cell_type": "markdown",
      "metadata": {
        "id": "pADtZrsagJ64"
      },
      "source": [
        "### OR Gate"
      ]
    },
    {
      "cell_type": "code",
      "metadata": {
        "id": "X1drqmeNuxIU",
        "colab": {
          "base_uri": "https://localhost:8080/"
        },
        "outputId": "3f22034c-62b7-4806-faa3-6fbbf04e6611"
      },
      "source": [
        "x2 = np.array([[1,1], [1,0], [0,1], [0,0]])\n",
        "y2 = np.array([[1], [1], [1], [0]])\n",
        "W2 = tf.random.normal([2], 0, 1)\n",
        "b2 = tf.random.normal([1], 0, 1)\n",
        "b_x = 1\n",
        "\n",
        "for i in range(2000):\n",
        "  error_sum = 0\n",
        "  \n",
        "  for j in range(4):\n",
        "    output = sigmoid(np.sum(x2[j] * W2) + b_x + b2)\n",
        "    error = y2[j][0] - output\n",
        "    W2 = W2 + x2[j] * 0.1 * error\n",
        "    b2 = b2 + b_x * 0.1 * error\n",
        "    error_sum += error\n",
        "\n",
        "  if i % 200 == 0:\n",
        "    print('Epoch {:4d}\\t Error Sum {}'.format(i, error_sum))\n",
        "\n",
        "print('\\n가중치\\t: {}'.format(W2))\n",
        "print('편향\\t : {}'.format(b2))"
      ],
      "execution_count": null,
      "outputs": [
        {
          "output_type": "stream",
          "name": "stdout",
          "text": [
            "Epoch    0\t Error Sum [-0.8160217]\n",
            "Epoch  200\t Error Sum [-0.06014556]\n",
            "Epoch  400\t Error Sum [-0.02857842]\n",
            "Epoch  600\t Error Sum [-0.01860467]\n",
            "Epoch  800\t Error Sum [-0.01373516]\n",
            "Epoch 1000\t Error Sum [-0.01086322]\n",
            "Epoch 1200\t Error Sum [-0.00897394]\n",
            "Epoch 1400\t Error Sum [-0.0076392]\n",
            "Epoch 1600\t Error Sum [-0.00664664]\n",
            "Epoch 1800\t Error Sum [-0.00588131]\n",
            "\n",
            "가중치\t: [8.167354 8.165912]\n",
            "편향\t : [-4.617604]\n"
          ]
        }
      ]
    },
    {
      "cell_type": "code",
      "metadata": {
        "id": "FGG4_ZXGgLNd",
        "colab": {
          "base_uri": "https://localhost:8080/"
        },
        "outputId": "041e9f2a-a5a3-4e4b-ffdf-dd2a7ed03f04"
      },
      "source": [
        "for i in range(4):\n",
        "  print('x2:{} y2:{} Output:{}'.format(x2[i], y2[i], sigmoid(np.sum(x2[i]* W2) + b2)))"
      ],
      "execution_count": null,
      "outputs": [
        {
          "output_type": "stream",
          "name": "stdout",
          "text": [
            "x2:[1 1] y2:[1] Output:[0.9999919]\n",
            "x2:[1 0] y2:[1] Output:[0.97207063]\n",
            "x2:[0 1] y2:[1] Output:[0.9720314]\n",
            "x2:[0 0] y2:[0] Output:[0.00977984]\n"
          ]
        }
      ]
    },
    {
      "cell_type": "markdown",
      "metadata": {
        "id": "IQyeNLdagPw1"
      },
      "source": [
        "### XOR Gate"
      ]
    },
    {
      "cell_type": "code",
      "metadata": {
        "id": "W-BYPnNBgNd9",
        "colab": {
          "base_uri": "https://localhost:8080/"
        },
        "outputId": "aedff053-5f2d-410d-8519-a32af2d9b338"
      },
      "source": [
        "x3 = np.array([[1,1], [1,0], [0,1], [0,0]])\n",
        "y3 = np.array([[0], [1], [1], [0]])\n",
        "W3 = tf.random.normal([2], 0, 1)\n",
        "b3 = tf.random.normal([1], 0, 1)\n",
        "b_x = 1\n",
        "\n",
        "for i in range(2000):\n",
        "  error_sum = 0\n",
        "  \n",
        "  for j in range(4):\n",
        "    output = sigmoid(np.sum(x3[j] * W3) + b_x + b3)\n",
        "    error = y3[j][0] - output\n",
        "    W3 = W3 + x3[j] * 0.1 * error\n",
        "    b3 = b3 + b_x * 0.1 * error\n",
        "    error_sum += error\n",
        "\n",
        "  if i % 200 == 0:\n",
        "    print('Epoch {:4d}\\t Error Sum {}'.format(i, error_sum))\n",
        "\n",
        "print('\\n가중치\\t: {}'.format(W3))\n",
        "print('편향\\t : {}'.format(b3))"
      ],
      "execution_count": null,
      "outputs": [
        {
          "output_type": "stream",
          "name": "stdout",
          "text": [
            "Epoch    0\t Error Sum [-1.4184368]\n",
            "Epoch  200\t Error Sum [-0.00708044]\n",
            "Epoch  400\t Error Sum [-0.00028789]\n",
            "Epoch  600\t Error Sum [-1.1742115e-05]\n",
            "Epoch  800\t Error Sum [-3.5762787e-07]\n",
            "Epoch 1000\t Error Sum [-1.013279e-06]\n",
            "Epoch 1200\t Error Sum [-1.013279e-06]\n",
            "Epoch 1400\t Error Sum [-1.013279e-06]\n",
            "Epoch 1600\t Error Sum [-1.013279e-06]\n",
            "Epoch 1800\t Error Sum [-1.013279e-06]\n",
            "\n",
            "가중치\t: [ 5.127966e-02 -2.078712e-06]\n",
            "편향\t : [-0.9999969]\n"
          ]
        }
      ]
    },
    {
      "cell_type": "code",
      "metadata": {
        "id": "z1EWz3N5gRfH",
        "colab": {
          "base_uri": "https://localhost:8080/"
        },
        "outputId": "a8c261d2-12ba-4c4c-ee25-ea4c8c9155a3"
      },
      "source": [
        "for i in range(4):\n",
        "  print('x3:{} y3:{} Output:{}'.format(x3[i], y3[i], sigmoid(np.sum(x3[i]* W3) + b3)))\n",
        "# 단인 뉴런으로는 학습 불가  "
      ],
      "execution_count": null,
      "outputs": [
        {
          "output_type": "stream",
          "name": "stdout",
          "text": [
            "x3:[1 1] y3:[0] Output:[0.27914244]\n",
            "x3:[1 0] y3:[1] Output:[0.2791429]\n",
            "x3:[0 1] y3:[1] Output:[0.2689416]\n",
            "x3:[0 0] y3:[0] Output:[0.26894203]\n"
          ]
        }
      ]
    },
    {
      "cell_type": "code",
      "metadata": {
        "id": "duXh8GGkgUET",
        "colab": {
          "base_uri": "https://localhost:8080/"
        },
        "outputId": "bf04b759-a294-4108-f059-6ad0c282482c"
      },
      "source": [
        "from tensorflow.keras import Sequential\n",
        "from tensorflow.keras.layers import Dense\n",
        "\n",
        "np.random.seed(111)\n",
        "\n",
        "x4 = np.array([[1,1], [1,0], [0,1], [0,0]])\n",
        "y4 = np.array([[0], [1], [1], [0]])\n",
        "\n",
        "model = Sequential([Dense(units=2, activation='sigmoid', input_shape=(2,)),\n",
        "                    Dense(units=1, activation='sigmoid')])\n",
        "model.compile(optimizer=tf.keras.optimizers.SGD(lr=0.1), loss='mse')\n",
        "model.summary()"
      ],
      "execution_count": null,
      "outputs": [
        {
          "output_type": "stream",
          "name": "stdout",
          "text": [
            "Model: \"sequential_2\"\n",
            "_________________________________________________________________\n",
            " Layer (type)                Output Shape              Param #   \n",
            "=================================================================\n",
            " dense_4 (Dense)             (None, 2)                 6         \n",
            "                                                                 \n",
            " dense_5 (Dense)             (None, 1)                 3         \n",
            "                                                                 \n",
            "=================================================================\n",
            "Total params: 9\n",
            "Trainable params: 9\n",
            "Non-trainable params: 0\n",
            "_________________________________________________________________\n"
          ]
        }
      ]
    },
    {
      "cell_type": "code",
      "metadata": {
        "id": "HYf3E6w6gV3z"
      },
      "source": [
        "history = model.fit(x4, y4, epochs=3000, batch_size=1, verbose=0)"
      ],
      "execution_count": null,
      "outputs": []
    },
    {
      "cell_type": "code",
      "metadata": {
        "id": "0ZuQIfAZgXzD",
        "colab": {
          "base_uri": "https://localhost:8080/"
        },
        "outputId": "9bfbc1a5-5f9b-4c9c-fec8-98e355d174e4"
      },
      "source": [
        "model.predict(x4)"
      ],
      "execution_count": null,
      "outputs": [
        {
          "output_type": "stream",
          "name": "stdout",
          "text": [
            "1/1 [==============================] - 0s 40ms/step\n"
          ]
        },
        {
          "output_type": "execute_result",
          "data": {
            "text/plain": [
              "array([[0.12355527],\n",
              "       [0.88512236],\n",
              "       [0.88472074],\n",
              "       [0.08677646]], dtype=float32)"
            ]
          },
          "metadata": {},
          "execution_count": 29
        }
      ]
    },
    {
      "cell_type": "markdown",
      "metadata": {
        "id": "NgHTUlX68Fyk"
      },
      "source": [
        "## 시각화 사용"
      ]
    },
    {
      "cell_type": "code",
      "metadata": {
        "id": "a8azIYHQ8H16",
        "colab": {
          "base_uri": "https://localhost:8080/",
          "height": 262
        },
        "outputId": "065347bf-6b2b-4df8-f1bd-c471a6032c25"
      },
      "source": [
        "import matplotlib.pyplot as plt\n",
        "plt.style.use('seaborn-white')\n",
        "\n",
        "x = range(50)\n",
        "y = tf.random.normal([50], 0, 1)\n",
        "plt.plot(x, y)\n",
        "plt.show()"
      ],
      "execution_count": null,
      "outputs": [
        {
          "output_type": "display_data",
          "data": {
            "text/plain": [
              "<Figure size 432x288 with 1 Axes>"
            ],
            "image/png": "[encoded data removed]"
          },
          "metadata": {}
        }
      ]
    },
    {
      "cell_type": "code",
      "metadata": {
        "id": "hX-S0ZvF8Hq6",
        "colab": {
          "base_uri": "https://localhost:8080/",
          "height": 262
        },
        "outputId": "9c421e89-a95e-4bc9-cb16-ed6fbebad187"
      },
      "source": [
        "x = range(50)\n",
        "y = tf.random.normal([50], 0, 1)\n",
        "plt.plot(x, y, 'ro')\n",
        "plt.show()"
      ],
      "execution_count": null,
      "outputs": [
        {
          "output_type": "display_data",
          "data": {
            "text/plain": [
              "<Figure size 432x288 with 1 Axes>"
            ],
            "image/png": "[encoded data removed]"
          },
          "metadata": {}
        }
      ]
    },
    {
      "cell_type": "code",
      "metadata": {
        "id": "2teBa4878XEI",
        "colab": {
          "base_uri": "https://localhost:8080/",
          "height": 262
        },
        "outputId": "3bc7f9f6-bf87-46e2-bb95-28dec34e9779"
      },
      "source": [
        "x = range(30)\n",
        "y = tf.random.normal([30], 0, 1)\n",
        "plt.plot(x, y, 'g-')\n",
        "plt.show()"
      ],
      "execution_count": null,
      "outputs": [
        {
          "output_type": "display_data",
          "data": {
            "text/plain": [
              "<Figure size 432x288 with 1 Axes>"
            ],
            "image/png": "[encoded data removed]"
          },
          "metadata": {}
        }
      ]
    },
    {
      "cell_type": "code",
      "metadata": {
        "id": "43W0ygJj8XA1",
        "colab": {
          "base_uri": "https://localhost:8080/",
          "height": 262
        },
        "outputId": "6d442a46-8dd2-4992-a26d-5afc58386f7e"
      },
      "source": [
        "x = range(30)\n",
        "y = tf.random.normal([30], 0, 1)\n",
        "plt.plot(x, y, 'b--')\n",
        "plt.show()"
      ],
      "execution_count": null,
      "outputs": [
        {
          "output_type": "display_data",
          "data": {
            "text/plain": [
              "<Figure size 432x288 with 1 Axes>"
            ],
            "image/png": "[encoded data removed]"
          },
          "metadata": {}
        }
      ]
    },
    {
      "cell_type": "code",
      "metadata": {
        "id": "HkF8DN5a8fWR",
        "colab": {
          "base_uri": "https://localhost:8080/",
          "height": 262
        },
        "outputId": "d0623a6b-b0f9-47a7-fea3-63b86e334e6a"
      },
      "source": [
        "random_normal = tf.random.normal([10000], 0, 1)\n",
        "plt.hist(random_normal, bins=100)\n",
        "plt.show()"
      ],
      "execution_count": null,
      "outputs": [
        {
          "output_type": "display_data",
          "data": {
            "text/plain": [
              "<Figure size 432x288 with 1 Axes>"
            ],
            "image/png": "[encoded data removed]"
          },
          "metadata": {}
        }
      ]
    },
    {
      "cell_type": "markdown",
      "metadata": {
        "id": "aL-QTl5Q8mdB"
      },
      "source": [
        "### XOR Gate의 'LOSS' 시각화\n"
      ]
    },
    {
      "cell_type": "code",
      "metadata": {
        "id": "vs8dlY1o8iby",
        "colab": {
          "base_uri": "https://localhost:8080/",
          "height": 281
        },
        "outputId": "be9cdcd2-ad54-4db6-c708-7365fa786072"
      },
      "source": [
        "plt.plot(history.history['loss'])"
      ],
      "execution_count": null,
      "outputs": [
        {
          "output_type": "execute_result",
          "data": {
            "text/plain": [
              "[<matplotlib.lines.Line2D at 0x7fac283b38d0>]"
            ]
          },
          "metadata": {},
          "execution_count": 37
        },
        {
          "output_type": "display_data",
          "data": {
            "text/plain": [
              "<Figure size 432x288 with 1 Axes>"
            ],
            "image/png": "[encoded data removed]"
          },
          "metadata": {}
        }
      ]
    }
  ]
}